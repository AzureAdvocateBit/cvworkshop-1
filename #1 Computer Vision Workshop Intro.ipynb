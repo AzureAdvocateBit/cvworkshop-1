{
 "cells": [
  {
   "cell_type": "code",
   "execution_count": 1,
   "metadata": {
    "collapsed": true
   },
   "outputs": [],
   "source": [
    "import IPython.display as D"
   ]
  },
  {
   "cell_type": "markdown",
   "metadata": {},
   "source": [
    "# Computer Vision Workshop Intro\n",
    "\n",
    "![](https://computervisionworkshop.blob.core.windows.net/media/chocolates.jpg)"
   ]
  },
  {
   "cell_type": "markdown",
   "metadata": {},
   "source": [
    "This intro is based on the work detecting complex policies in the following [real life code story](https://www.microsoft.com/developerblog/2017/07/31/using-object-detection-complex-image-classification-scenarios/)"
   ]
  },
  {
   "cell_type": "markdown",
   "metadata": {},
   "source": [
    "# The AI Computer Vision Revolution \n",
    "\n",
    "Recent developments in computer vision have changed the computer vision landscape. Many scenarios that were once considered possible only in  sci-fi have recently become as easy as consuming an API."
   ]
  },
  {
   "cell_type": "markdown",
   "metadata": {},
   "source": [
    "**XKCD in September 24th 2014**\n",
    " \n",
    "![](https://imgs.xkcd.com/comics/tasks.png)"
   ]
  },
  {
   "cell_type": "markdown",
   "metadata": {},
   "source": [
    "**Microsoft Developer Blog [Bird Detection with Azure ML](https://www.microsoft.com/developerblog/2017/10/24/bird-detection-with-azure-ml-workbench/) and [Active Learning for Object Detection in Partnership with Conservation Metrics](https://www.microsoft.com/developerblog/2018/11/06/active-learning-for-object-detection/) November 6, 2018**\n",
    "\n",
    "![](https://github.com/aribornstein/cvworkshop/blob/master/media/al_results-min.png?raw=true)"
   ]
  },
  {
   "cell_type": "markdown",
   "metadata": {},
   "source": [
    "## Yet in practice not every computer vision problem is related to birds, flowers, cats and dogs.\n",
    "\n",
    "Today we are going to review a real world computer vision use case from the retail sector and are going to compare and contrast some of the different approaches and technologies availble to solve the problem. "
   ]
  },
  {
   "cell_type": "markdown",
   "metadata": {},
   "source": [
    "# Real Life Code\n",
    "\n",
    "Today we are going to go through a real world complex image classification use case and explore the spectrum of solutions to solve the problem.\n",
    "\n",
    "We recently partnered with a large manufacturer of confectionery products in Central & Eastern Europe, to build a machine learning model which validates whether distributors are stocking chocolates correctly. The company we worked with has a huge distribution network of supermarket chains across over fourteen countries. Each of these distributors is required to arrange chocolates on their stands according to standardized policies. Each policy describes what shelf a given chocolate should be on and in what order it should be stocked.\n",
    "\n",
    "There are huge costs associated with “routine” audit activities to enforce these policies. Our partner wanted to develop a system in which an auditor or store manager could take a picture and be told immediately whether the shelf was stocked correctly, like in the image below.\n",
    "\n",
    "![](https://github.com/aribornstein/cvworkshop/blob/master/media/valid_invalid.jpg?raw=true)"
   ]
  },
  {
   "cell_type": "markdown",
   "metadata": {},
   "source": [
    "Even with state of the art methods this is challenging for a multiude of reasons such as\n",
    "\n",
    "- Image quality\n",
    "- Image angle \n",
    "- Subtle Policy Violations "
   ]
  },
  {
   "cell_type": "markdown",
   "metadata": {},
   "source": [
    "![](https://github.com/aribornstein/cvworkshop/blob/master/media/shelf2.jpg?raw=true)"
   ]
  },
  {
   "cell_type": "markdown",
   "metadata": {},
   "source": [
    "Even though some images of misstocked shelves such as the above on the right are flagrant violations of policy and easy to clasify others such as the off by one chocolate violation below are more subtle and harder to classify correctly. "
   ]
  },
  {
   "cell_type": "markdown",
   "metadata": {},
   "source": [
    "![](https://github.com/aribornstein/cvworkshop/blob/master/media/shelf1.jpg?raw=true)"
   ]
  },
  {
   "cell_type": "markdown",
   "metadata": {},
   "source": [
    "# Potential Technology Solutions to this Problem"
   ]
  },
  {
   "cell_type": "markdown",
   "metadata": {},
   "source": [
    "Microsoft provides a spectrum of AI services that can be used for solving Computer Vision Tasks like this one, each solution can be operationalizaed on Azure. From [Azure Cognitive Servies](https://azure.microsoft.com/en-us/services/cognitive-services/) to [Azure DSVM]() and [Azure Machine Learning]() each techonology and approach has different advantages and tradeoffs that fit the spectrum of computer vision use cases."
   ]
  },
  {
   "cell_type": "markdown",
   "metadata": {},
   "source": [
    "### Cognitive Services \n",
    "\n",
    "Azure Cognitive Services are a set of out of the box API's and high level services that help you get started with AI tasks with out needing any domain expierence.\n",
    "\n",
    "![](https://github.com/aribornstein/cvworkshop/blob/master/media/microsoft%20computer%20vision%20API.jpg?raw=true)\n",
    "![](https://github.com/aribornstein/cvworkshop/blob/master/media/azure-meetup-getting-started-cognitive-services-7-638-min.jpg?raw=true)\n"
   ]
  },
  {
   "cell_type": "markdown",
   "metadata": {},
   "source": [
    "### Azure DSVM & ML Service\n",
    "\n",
    "\n",
    "**DSVM** The Data Science Virtual Machine is a virtual machine (VM) image on Azure. It has many popular data science and deep learning tools already installed and configured. These images come with popular data science and machine learning tools, including Microsoft R Server Developer Edition, Microsoft R Open, Anaconda Python, Julia, Jupyter notebooks, Visual Studio Code, RStudio, xgboost, and many more. Instead of rolling out a comparable workspace on your own, you can provision a DSVM - saving you lots of time on the installation, configuration, and package management processes. Once your DSVM has been deployed, you can immediately begin working on your data science project.\n",
    "\n",
    "![](https://github.com/aribornstein/cvworkshop/blob/master/media/diagram-1-min.jpg?raw=true)\n",
    "\n",
    "For more information on what you can do with a DSVM, see [Data science with a Linux Data Science Virtual Machine on Azure](https://docs.microsoft.com/azure/machine-learning/data-science-virtual-machine/linux-dsvm-walkthrough)\n",
    "\n",
    "\n",
    "**Azure ML Service** Enables you to build and train machine learning models faster, and easily deploy to the cloud or the edge with Azure Machine Learning service.Use the latest open source technologies such as TensorFlow, PyTorch, or Jupyter. Experiment locally and then quickly scale up or out with large GPU-enabled clusters in the cloud. Speed up data science with automated machine learning and hyper-parameter tuning. Track your experiments, manage models, and easily deploy with integrated CI/CD tooling.\n",
    "\n",
    "![](https://github.com/aribornstein/cvworkshop/blob/master/media/ml-service-screenshot.jpg?raw=true)\n",
    "\n"
   ]
  },
  {
   "cell_type": "markdown",
   "metadata": {},
   "source": [
    "### Deep Learning Frameworks and Keras\n",
    "\n",
    "![](https://github.com/aribornstein/cvworkshop/blob/master/media/DYQ5PYNVoAAY7pd-min.jpg?raw=true)\n",
    "\n",
    "Typically deep learning engineers don't implement the matrix algebra operations all by hand. Instead, they use frameworks such as PyTorch or TensorFlow. Keras is an open source neural network library written in Python. It is capable of running on top of TensorFlow, Microsoft Cognitive Toolkit, or Theano. Designed to enable fast experimentation with deep neural networks, it focuses on being user-friendly, modular, and extensible. Wikipedia\n",
    "\n"
   ]
  },
  {
   "cell_type": "markdown",
   "metadata": {},
   "source": [
    "In the following workshop we are going to explore some of these technologies and architectures to solve our own complex policy classification scenario."
   ]
  },
  {
   "cell_type": "markdown",
   "metadata": {},
   "source": [
    "# Workshop Challenge "
   ]
  },
  {
   "cell_type": "markdown",
   "metadata": {},
   "source": [
    "In this workshop we will building a complex policy classifier similar to the one outlined the above scenario. For an image to be stocked validly it must be stocked in the following order.\n",
    "\n",
    "- Top Shelf (Soda)\n",
    "- Middle Shelf (Juice)\n",
    "- Bottom Shelf (water)"
   ]
  },
  {
   "cell_type": "markdown",
   "metadata": {},
   "source": [
    "## Valid Example (Soda, Juice, Water)\n",
    "\n",
    "![](https://github.com/aribornstein/cvworkshop/blob/master/media/IMG_4321-min.JPG?raw=true)\n"
   ]
  },
  {
   "cell_type": "markdown",
   "metadata": {},
   "source": [
    "## Invalid Example \n",
    "\n",
    "![](https://github.com/aribornstein/cvworkshop/blob/master/media/IMG_4194-min.JPG?raw=true)\n"
   ]
  },
  {
   "cell_type": "markdown",
   "metadata": {},
   "source": [
    "# Workshop Goals\n",
    "\n",
    "By the end of this workshop you should better \n",
    "\n",
    "- Understand the AI Computer Vision Landscape \n",
    "\n",
    "- Be able to build an deploy a Custom Vision service model\n",
    "\n",
    "- Build a CNN image recognition model with Keras and transfer learning \n",
    "\n",
    "- Use VoTT and FasterRCNN to annotate and train an object detection model for complex classficiation scenarios\n",
    "\n",
    "- Train and deploy custom Computer Vision models on the cloud using the Azure ML Service and ACI\n",
    "\n"
   ]
  },
  {
   "cell_type": "code",
   "execution_count": null,
   "metadata": {
    "collapsed": true
   },
   "outputs": [],
   "source": []
  }
 ],
 "metadata": {
  "kernelspec": {
   "display_name": "Python 3",
   "language": "python",
   "name": "python3"
  },
  "language_info": {
   "codemirror_mode": {
    "name": "ipython",
    "version": 3
   },
   "file_extension": ".py",
   "mimetype": "text/x-python",
   "name": "python",
   "nbconvert_exporter": "python",
   "pygments_lexer": "ipython3",
   "version": "3.5.2"
  }
 },
 "nbformat": 4,
 "nbformat_minor": 2
}
